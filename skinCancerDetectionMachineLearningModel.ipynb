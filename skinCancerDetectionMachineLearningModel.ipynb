{
 "cells": [
  {
   "cell_type": "markdown",
   "id": "3d30e3b8",
   "metadata": {},
   "source": [
    "Convolutional Neural Networks\n",
    "- Work with image data"
   ]
  },
  {
   "cell_type": "code",
   "execution_count": null,
   "id": "5acb1ffc",
   "metadata": {},
   "outputs": [],
   "source": [
    "# pip install tensorflow"
   ]
  },
  {
   "cell_type": "code",
   "execution_count": 1,
   "id": "d9049af1",
   "metadata": {},
   "outputs": [],
   "source": [
    "import numpy as np\n",
    "import pandas as pd\n",
    "import os\n",
    "from sklearn.metrics import classification_report\n",
    "import seaborn as sn; sn.set(font_scale =1.4)\n",
    "from sklearn.utils import shuffle\n",
    "import matplotlib.pyplot as plt\n",
    "import cv2\n",
    "import tensorflow as tf\n",
    "from tensorflow import keras\n",
    "from keras.models import Sequential\n",
    "from keras.layers import Dense, Flatten, Conv2D, MaxPooling2D, Dropout\n",
    "from keras.utils import to_categorical\n",
    "plt.style.use('fivethirtyeight')\n",
    "from sklearn.model_selection import train_test_split\n",
    "from sklearn.metrics import confusion_matrix, classification_report\n",
    "import seaborn as sns\n",
    "from tensorflow.keras.models import Sequential, save_model, load_model\n"
   ]
  },
  {
   "cell_type": "code",
   "execution_count": 2,
   "id": "244c1e3d",
   "metadata": {},
   "outputs": [],
   "source": [
    "data = pd.read_csv('hmnist_28_28_L.csv')"
   ]
  },
  {
   "cell_type": "code",
   "execution_count": 3,
   "id": "41c0c7cd",
   "metadata": {
    "scrolled": true
   },
   "outputs": [
    {
     "data": {
      "text/html": [
       "<div>\n",
       "<style scoped>\n",
       "    .dataframe tbody tr th:only-of-type {\n",
       "        vertical-align: middle;\n",
       "    }\n",
       "\n",
       "    .dataframe tbody tr th {\n",
       "        vertical-align: top;\n",
       "    }\n",
       "\n",
       "    .dataframe thead th {\n",
       "        text-align: right;\n",
       "    }\n",
       "</style>\n",
       "<table border=\"1\" class=\"dataframe\">\n",
       "  <thead>\n",
       "    <tr style=\"text-align: right;\">\n",
       "      <th></th>\n",
       "      <th>pixel0000</th>\n",
       "      <th>pixel0001</th>\n",
       "      <th>pixel0002</th>\n",
       "      <th>pixel0003</th>\n",
       "      <th>pixel0004</th>\n",
       "      <th>pixel0005</th>\n",
       "      <th>pixel0006</th>\n",
       "      <th>pixel0007</th>\n",
       "      <th>pixel0008</th>\n",
       "      <th>pixel0009</th>\n",
       "      <th>...</th>\n",
       "      <th>pixel0775</th>\n",
       "      <th>pixel0776</th>\n",
       "      <th>pixel0777</th>\n",
       "      <th>pixel0778</th>\n",
       "      <th>pixel0779</th>\n",
       "      <th>pixel0780</th>\n",
       "      <th>pixel0781</th>\n",
       "      <th>pixel0782</th>\n",
       "      <th>pixel0783</th>\n",
       "      <th>label</th>\n",
       "    </tr>\n",
       "  </thead>\n",
       "  <tbody>\n",
       "    <tr>\n",
       "      <th>0</th>\n",
       "      <td>169</td>\n",
       "      <td>171</td>\n",
       "      <td>170</td>\n",
       "      <td>177</td>\n",
       "      <td>181</td>\n",
       "      <td>182</td>\n",
       "      <td>181</td>\n",
       "      <td>185</td>\n",
       "      <td>194</td>\n",
       "      <td>192</td>\n",
       "      <td>...</td>\n",
       "      <td>184</td>\n",
       "      <td>186</td>\n",
       "      <td>185</td>\n",
       "      <td>180</td>\n",
       "      <td>157</td>\n",
       "      <td>140</td>\n",
       "      <td>140</td>\n",
       "      <td>159</td>\n",
       "      <td>165</td>\n",
       "      <td>2</td>\n",
       "    </tr>\n",
       "    <tr>\n",
       "      <th>1</th>\n",
       "      <td>19</td>\n",
       "      <td>57</td>\n",
       "      <td>105</td>\n",
       "      <td>140</td>\n",
       "      <td>149</td>\n",
       "      <td>148</td>\n",
       "      <td>144</td>\n",
       "      <td>155</td>\n",
       "      <td>170</td>\n",
       "      <td>170</td>\n",
       "      <td>...</td>\n",
       "      <td>172</td>\n",
       "      <td>175</td>\n",
       "      <td>160</td>\n",
       "      <td>144</td>\n",
       "      <td>114</td>\n",
       "      <td>89</td>\n",
       "      <td>47</td>\n",
       "      <td>18</td>\n",
       "      <td>18</td>\n",
       "      <td>2</td>\n",
       "    </tr>\n",
       "    <tr>\n",
       "      <th>2</th>\n",
       "      <td>155</td>\n",
       "      <td>163</td>\n",
       "      <td>161</td>\n",
       "      <td>167</td>\n",
       "      <td>167</td>\n",
       "      <td>172</td>\n",
       "      <td>155</td>\n",
       "      <td>152</td>\n",
       "      <td>165</td>\n",
       "      <td>175</td>\n",
       "      <td>...</td>\n",
       "      <td>163</td>\n",
       "      <td>178</td>\n",
       "      <td>157</td>\n",
       "      <td>166</td>\n",
       "      <td>167</td>\n",
       "      <td>148</td>\n",
       "      <td>141</td>\n",
       "      <td>136</td>\n",
       "      <td>115</td>\n",
       "      <td>2</td>\n",
       "    </tr>\n",
       "    <tr>\n",
       "      <th>3</th>\n",
       "      <td>25</td>\n",
       "      <td>71</td>\n",
       "      <td>116</td>\n",
       "      <td>139</td>\n",
       "      <td>136</td>\n",
       "      <td>153</td>\n",
       "      <td>148</td>\n",
       "      <td>161</td>\n",
       "      <td>172</td>\n",
       "      <td>162</td>\n",
       "      <td>...</td>\n",
       "      <td>125</td>\n",
       "      <td>135</td>\n",
       "      <td>138</td>\n",
       "      <td>137</td>\n",
       "      <td>111</td>\n",
       "      <td>71</td>\n",
       "      <td>32</td>\n",
       "      <td>16</td>\n",
       "      <td>16</td>\n",
       "      <td>2</td>\n",
       "    </tr>\n",
       "    <tr>\n",
       "      <th>4</th>\n",
       "      <td>129</td>\n",
       "      <td>162</td>\n",
       "      <td>181</td>\n",
       "      <td>196</td>\n",
       "      <td>205</td>\n",
       "      <td>208</td>\n",
       "      <td>205</td>\n",
       "      <td>213</td>\n",
       "      <td>225</td>\n",
       "      <td>224</td>\n",
       "      <td>...</td>\n",
       "      <td>210</td>\n",
       "      <td>197</td>\n",
       "      <td>172</td>\n",
       "      <td>190</td>\n",
       "      <td>195</td>\n",
       "      <td>193</td>\n",
       "      <td>181</td>\n",
       "      <td>147</td>\n",
       "      <td>88</td>\n",
       "      <td>2</td>\n",
       "    </tr>\n",
       "    <tr>\n",
       "      <th>...</th>\n",
       "      <td>...</td>\n",
       "      <td>...</td>\n",
       "      <td>...</td>\n",
       "      <td>...</td>\n",
       "      <td>...</td>\n",
       "      <td>...</td>\n",
       "      <td>...</td>\n",
       "      <td>...</td>\n",
       "      <td>...</td>\n",
       "      <td>...</td>\n",
       "      <td>...</td>\n",
       "      <td>...</td>\n",
       "      <td>...</td>\n",
       "      <td>...</td>\n",
       "      <td>...</td>\n",
       "      <td>...</td>\n",
       "      <td>...</td>\n",
       "      <td>...</td>\n",
       "      <td>...</td>\n",
       "      <td>...</td>\n",
       "      <td>...</td>\n",
       "    </tr>\n",
       "    <tr>\n",
       "      <th>10010</th>\n",
       "      <td>172</td>\n",
       "      <td>171</td>\n",
       "      <td>173</td>\n",
       "      <td>175</td>\n",
       "      <td>164</td>\n",
       "      <td>187</td>\n",
       "      <td>207</td>\n",
       "      <td>210</td>\n",
       "      <td>208</td>\n",
       "      <td>206</td>\n",
       "      <td>...</td>\n",
       "      <td>210</td>\n",
       "      <td>217</td>\n",
       "      <td>221</td>\n",
       "      <td>209</td>\n",
       "      <td>185</td>\n",
       "      <td>187</td>\n",
       "      <td>192</td>\n",
       "      <td>192</td>\n",
       "      <td>192</td>\n",
       "      <td>0</td>\n",
       "    </tr>\n",
       "    <tr>\n",
       "      <th>10011</th>\n",
       "      <td>2</td>\n",
       "      <td>34</td>\n",
       "      <td>108</td>\n",
       "      <td>116</td>\n",
       "      <td>114</td>\n",
       "      <td>119</td>\n",
       "      <td>131</td>\n",
       "      <td>139</td>\n",
       "      <td>139</td>\n",
       "      <td>145</td>\n",
       "      <td>...</td>\n",
       "      <td>173</td>\n",
       "      <td>169</td>\n",
       "      <td>168</td>\n",
       "      <td>168</td>\n",
       "      <td>143</td>\n",
       "      <td>138</td>\n",
       "      <td>83</td>\n",
       "      <td>23</td>\n",
       "      <td>3</td>\n",
       "      <td>0</td>\n",
       "    </tr>\n",
       "    <tr>\n",
       "      <th>10012</th>\n",
       "      <td>122</td>\n",
       "      <td>154</td>\n",
       "      <td>162</td>\n",
       "      <td>170</td>\n",
       "      <td>179</td>\n",
       "      <td>197</td>\n",
       "      <td>200</td>\n",
       "      <td>195</td>\n",
       "      <td>202</td>\n",
       "      <td>199</td>\n",
       "      <td>...</td>\n",
       "      <td>221</td>\n",
       "      <td>215</td>\n",
       "      <td>205</td>\n",
       "      <td>187</td>\n",
       "      <td>209</td>\n",
       "      <td>198</td>\n",
       "      <td>187</td>\n",
       "      <td>164</td>\n",
       "      <td>156</td>\n",
       "      <td>0</td>\n",
       "    </tr>\n",
       "    <tr>\n",
       "      <th>10013</th>\n",
       "      <td>137</td>\n",
       "      <td>143</td>\n",
       "      <td>141</td>\n",
       "      <td>139</td>\n",
       "      <td>147</td>\n",
       "      <td>152</td>\n",
       "      <td>155</td>\n",
       "      <td>152</td>\n",
       "      <td>155</td>\n",
       "      <td>159</td>\n",
       "      <td>...</td>\n",
       "      <td>172</td>\n",
       "      <td>171</td>\n",
       "      <td>175</td>\n",
       "      <td>183</td>\n",
       "      <td>177</td>\n",
       "      <td>170</td>\n",
       "      <td>169</td>\n",
       "      <td>166</td>\n",
       "      <td>170</td>\n",
       "      <td>0</td>\n",
       "    </tr>\n",
       "    <tr>\n",
       "      <th>10014</th>\n",
       "      <td>149</td>\n",
       "      <td>157</td>\n",
       "      <td>157</td>\n",
       "      <td>152</td>\n",
       "      <td>151</td>\n",
       "      <td>152</td>\n",
       "      <td>154</td>\n",
       "      <td>163</td>\n",
       "      <td>149</td>\n",
       "      <td>145</td>\n",
       "      <td>...</td>\n",
       "      <td>159</td>\n",
       "      <td>154</td>\n",
       "      <td>145</td>\n",
       "      <td>106</td>\n",
       "      <td>67</td>\n",
       "      <td>62</td>\n",
       "      <td>103</td>\n",
       "      <td>146</td>\n",
       "      <td>148</td>\n",
       "      <td>6</td>\n",
       "    </tr>\n",
       "  </tbody>\n",
       "</table>\n",
       "<p>10015 rows × 785 columns</p>\n",
       "</div>"
      ],
      "text/plain": [
       "       pixel0000  pixel0001  pixel0002  pixel0003  pixel0004  pixel0005  \\\n",
       "0            169        171        170        177        181        182   \n",
       "1             19         57        105        140        149        148   \n",
       "2            155        163        161        167        167        172   \n",
       "3             25         71        116        139        136        153   \n",
       "4            129        162        181        196        205        208   \n",
       "...          ...        ...        ...        ...        ...        ...   \n",
       "10010        172        171        173        175        164        187   \n",
       "10011          2         34        108        116        114        119   \n",
       "10012        122        154        162        170        179        197   \n",
       "10013        137        143        141        139        147        152   \n",
       "10014        149        157        157        152        151        152   \n",
       "\n",
       "       pixel0006  pixel0007  pixel0008  pixel0009  ...  pixel0775  pixel0776  \\\n",
       "0            181        185        194        192  ...        184        186   \n",
       "1            144        155        170        170  ...        172        175   \n",
       "2            155        152        165        175  ...        163        178   \n",
       "3            148        161        172        162  ...        125        135   \n",
       "4            205        213        225        224  ...        210        197   \n",
       "...          ...        ...        ...        ...  ...        ...        ...   \n",
       "10010        207        210        208        206  ...        210        217   \n",
       "10011        131        139        139        145  ...        173        169   \n",
       "10012        200        195        202        199  ...        221        215   \n",
       "10013        155        152        155        159  ...        172        171   \n",
       "10014        154        163        149        145  ...        159        154   \n",
       "\n",
       "       pixel0777  pixel0778  pixel0779  pixel0780  pixel0781  pixel0782  \\\n",
       "0            185        180        157        140        140        159   \n",
       "1            160        144        114         89         47         18   \n",
       "2            157        166        167        148        141        136   \n",
       "3            138        137        111         71         32         16   \n",
       "4            172        190        195        193        181        147   \n",
       "...          ...        ...        ...        ...        ...        ...   \n",
       "10010        221        209        185        187        192        192   \n",
       "10011        168        168        143        138         83         23   \n",
       "10012        205        187        209        198        187        164   \n",
       "10013        175        183        177        170        169        166   \n",
       "10014        145        106         67         62        103        146   \n",
       "\n",
       "       pixel0783  label  \n",
       "0            165      2  \n",
       "1             18      2  \n",
       "2            115      2  \n",
       "3             16      2  \n",
       "4             88      2  \n",
       "...          ...    ...  \n",
       "10010        192      0  \n",
       "10011          3      0  \n",
       "10012        156      0  \n",
       "10013        170      0  \n",
       "10014        148      6  \n",
       "\n",
       "[10015 rows x 785 columns]"
      ]
     },
     "execution_count": 3,
     "metadata": {},
     "output_type": "execute_result"
    }
   ],
   "source": [
    "data"
   ]
  },
  {
   "cell_type": "markdown",
   "id": "3a311141",
   "metadata": {},
   "source": [
    "### Analysing data and preprocessing"
   ]
  },
  {
   "cell_type": "code",
   "execution_count": 4,
   "id": "da733d17",
   "metadata": {},
   "outputs": [
    {
     "data": {
      "text/plain": [
       "0"
      ]
     },
     "execution_count": 4,
     "metadata": {},
     "output_type": "execute_result"
    }
   ],
   "source": [
    "data.isna().sum().sum()"
   ]
  },
  {
   "cell_type": "code",
   "execution_count": 5,
   "id": "d4e6cf85",
   "metadata": {},
   "outputs": [],
   "source": [
    "y = data['label'].copy()\n",
    "X = data.drop('label', axis=1).copy()"
   ]
  },
  {
   "cell_type": "markdown",
   "id": "d0999ddd",
   "metadata": {},
   "source": [
    "### Potential labels:\n",
    "- 1 melanocytic nevi\n",
    "- 2 melanoma\n",
    "- 3 benign keratosis like lesions\n",
    "- 4 actinic keratoses and intraepithelial carcinoma / bowen's disease\n",
    "- 5 vascular lesions\n",
    "- 6 dermatofibroma "
   ]
  },
  {
   "cell_type": "code",
   "execution_count": 6,
   "id": "7e3f6e9b",
   "metadata": {},
   "outputs": [
    {
     "data": {
      "text/plain": [
       "4    6705\n",
       "6    1113\n",
       "2    1099\n",
       "1     514\n",
       "0     327\n",
       "5     142\n",
       "3     115\n",
       "Name: label, dtype: int64"
      ]
     },
     "execution_count": 6,
     "metadata": {},
     "output_type": "execute_result"
    }
   ],
   "source": [
    "y.value_counts()"
   ]
  },
  {
   "cell_type": "code",
   "execution_count": 7,
   "id": "0b54e042",
   "metadata": {},
   "outputs": [],
   "source": [
    "label_mapping = {\n",
    "    0: 'akiec',\n",
    "    1: 'mel',\n",
    "    2: 'bkl',\n",
    "    3: 'bcc',\n",
    "    4: 'nv',\n",
    "    5: 'vasc',\n",
    "    6: 'df'\n",
    "}"
   ]
  },
  {
   "cell_type": "markdown",
   "id": "c7200e66",
   "metadata": {},
   "source": [
    "### rescaling: "
   ]
  },
  {
   "cell_type": "markdown",
   "id": "26da196d",
   "metadata": {},
   "source": [
    "- pixel data between zero and one"
   ]
  },
  {
   "cell_type": "code",
   "execution_count": 8,
   "id": "c136f072",
   "metadata": {},
   "outputs": [],
   "source": [
    "X = X / 255"
   ]
  },
  {
   "cell_type": "code",
   "execution_count": 9,
   "id": "5e96c91f",
   "metadata": {},
   "outputs": [
    {
     "data": {
      "text/html": [
       "<div>\n",
       "<style scoped>\n",
       "    .dataframe tbody tr th:only-of-type {\n",
       "        vertical-align: middle;\n",
       "    }\n",
       "\n",
       "    .dataframe tbody tr th {\n",
       "        vertical-align: top;\n",
       "    }\n",
       "\n",
       "    .dataframe thead th {\n",
       "        text-align: right;\n",
       "    }\n",
       "</style>\n",
       "<table border=\"1\" class=\"dataframe\">\n",
       "  <thead>\n",
       "    <tr style=\"text-align: right;\">\n",
       "      <th></th>\n",
       "      <th>pixel0000</th>\n",
       "      <th>pixel0001</th>\n",
       "      <th>pixel0002</th>\n",
       "      <th>pixel0003</th>\n",
       "      <th>pixel0004</th>\n",
       "      <th>pixel0005</th>\n",
       "      <th>pixel0006</th>\n",
       "      <th>pixel0007</th>\n",
       "      <th>pixel0008</th>\n",
       "      <th>pixel0009</th>\n",
       "      <th>...</th>\n",
       "      <th>pixel0774</th>\n",
       "      <th>pixel0775</th>\n",
       "      <th>pixel0776</th>\n",
       "      <th>pixel0777</th>\n",
       "      <th>pixel0778</th>\n",
       "      <th>pixel0779</th>\n",
       "      <th>pixel0780</th>\n",
       "      <th>pixel0781</th>\n",
       "      <th>pixel0782</th>\n",
       "      <th>pixel0783</th>\n",
       "    </tr>\n",
       "  </thead>\n",
       "  <tbody>\n",
       "    <tr>\n",
       "      <th>0</th>\n",
       "      <td>0.662745</td>\n",
       "      <td>0.670588</td>\n",
       "      <td>0.666667</td>\n",
       "      <td>0.694118</td>\n",
       "      <td>0.709804</td>\n",
       "      <td>0.713725</td>\n",
       "      <td>0.709804</td>\n",
       "      <td>0.725490</td>\n",
       "      <td>0.760784</td>\n",
       "      <td>0.752941</td>\n",
       "      <td>...</td>\n",
       "      <td>0.690196</td>\n",
       "      <td>0.721569</td>\n",
       "      <td>0.729412</td>\n",
       "      <td>0.725490</td>\n",
       "      <td>0.705882</td>\n",
       "      <td>0.615686</td>\n",
       "      <td>0.549020</td>\n",
       "      <td>0.549020</td>\n",
       "      <td>0.623529</td>\n",
       "      <td>0.647059</td>\n",
       "    </tr>\n",
       "    <tr>\n",
       "      <th>1</th>\n",
       "      <td>0.074510</td>\n",
       "      <td>0.223529</td>\n",
       "      <td>0.411765</td>\n",
       "      <td>0.549020</td>\n",
       "      <td>0.584314</td>\n",
       "      <td>0.580392</td>\n",
       "      <td>0.564706</td>\n",
       "      <td>0.607843</td>\n",
       "      <td>0.666667</td>\n",
       "      <td>0.666667</td>\n",
       "      <td>...</td>\n",
       "      <td>0.709804</td>\n",
       "      <td>0.674510</td>\n",
       "      <td>0.686275</td>\n",
       "      <td>0.627451</td>\n",
       "      <td>0.564706</td>\n",
       "      <td>0.447059</td>\n",
       "      <td>0.349020</td>\n",
       "      <td>0.184314</td>\n",
       "      <td>0.070588</td>\n",
       "      <td>0.070588</td>\n",
       "    </tr>\n",
       "    <tr>\n",
       "      <th>2</th>\n",
       "      <td>0.607843</td>\n",
       "      <td>0.639216</td>\n",
       "      <td>0.631373</td>\n",
       "      <td>0.654902</td>\n",
       "      <td>0.654902</td>\n",
       "      <td>0.674510</td>\n",
       "      <td>0.607843</td>\n",
       "      <td>0.596078</td>\n",
       "      <td>0.647059</td>\n",
       "      <td>0.686275</td>\n",
       "      <td>...</td>\n",
       "      <td>0.635294</td>\n",
       "      <td>0.639216</td>\n",
       "      <td>0.698039</td>\n",
       "      <td>0.615686</td>\n",
       "      <td>0.650980</td>\n",
       "      <td>0.654902</td>\n",
       "      <td>0.580392</td>\n",
       "      <td>0.552941</td>\n",
       "      <td>0.533333</td>\n",
       "      <td>0.450980</td>\n",
       "    </tr>\n",
       "    <tr>\n",
       "      <th>3</th>\n",
       "      <td>0.098039</td>\n",
       "      <td>0.278431</td>\n",
       "      <td>0.454902</td>\n",
       "      <td>0.545098</td>\n",
       "      <td>0.533333</td>\n",
       "      <td>0.600000</td>\n",
       "      <td>0.580392</td>\n",
       "      <td>0.631373</td>\n",
       "      <td>0.674510</td>\n",
       "      <td>0.635294</td>\n",
       "      <td>...</td>\n",
       "      <td>0.556863</td>\n",
       "      <td>0.490196</td>\n",
       "      <td>0.529412</td>\n",
       "      <td>0.541176</td>\n",
       "      <td>0.537255</td>\n",
       "      <td>0.435294</td>\n",
       "      <td>0.278431</td>\n",
       "      <td>0.125490</td>\n",
       "      <td>0.062745</td>\n",
       "      <td>0.062745</td>\n",
       "    </tr>\n",
       "    <tr>\n",
       "      <th>4</th>\n",
       "      <td>0.505882</td>\n",
       "      <td>0.635294</td>\n",
       "      <td>0.709804</td>\n",
       "      <td>0.768627</td>\n",
       "      <td>0.803922</td>\n",
       "      <td>0.815686</td>\n",
       "      <td>0.803922</td>\n",
       "      <td>0.835294</td>\n",
       "      <td>0.882353</td>\n",
       "      <td>0.878431</td>\n",
       "      <td>...</td>\n",
       "      <td>0.827451</td>\n",
       "      <td>0.823529</td>\n",
       "      <td>0.772549</td>\n",
       "      <td>0.674510</td>\n",
       "      <td>0.745098</td>\n",
       "      <td>0.764706</td>\n",
       "      <td>0.756863</td>\n",
       "      <td>0.709804</td>\n",
       "      <td>0.576471</td>\n",
       "      <td>0.345098</td>\n",
       "    </tr>\n",
       "    <tr>\n",
       "      <th>...</th>\n",
       "      <td>...</td>\n",
       "      <td>...</td>\n",
       "      <td>...</td>\n",
       "      <td>...</td>\n",
       "      <td>...</td>\n",
       "      <td>...</td>\n",
       "      <td>...</td>\n",
       "      <td>...</td>\n",
       "      <td>...</td>\n",
       "      <td>...</td>\n",
       "      <td>...</td>\n",
       "      <td>...</td>\n",
       "      <td>...</td>\n",
       "      <td>...</td>\n",
       "      <td>...</td>\n",
       "      <td>...</td>\n",
       "      <td>...</td>\n",
       "      <td>...</td>\n",
       "      <td>...</td>\n",
       "      <td>...</td>\n",
       "      <td>...</td>\n",
       "    </tr>\n",
       "    <tr>\n",
       "      <th>10010</th>\n",
       "      <td>0.674510</td>\n",
       "      <td>0.670588</td>\n",
       "      <td>0.678431</td>\n",
       "      <td>0.686275</td>\n",
       "      <td>0.643137</td>\n",
       "      <td>0.733333</td>\n",
       "      <td>0.811765</td>\n",
       "      <td>0.823529</td>\n",
       "      <td>0.815686</td>\n",
       "      <td>0.807843</td>\n",
       "      <td>...</td>\n",
       "      <td>0.823529</td>\n",
       "      <td>0.823529</td>\n",
       "      <td>0.850980</td>\n",
       "      <td>0.866667</td>\n",
       "      <td>0.819608</td>\n",
       "      <td>0.725490</td>\n",
       "      <td>0.733333</td>\n",
       "      <td>0.752941</td>\n",
       "      <td>0.752941</td>\n",
       "      <td>0.752941</td>\n",
       "    </tr>\n",
       "    <tr>\n",
       "      <th>10011</th>\n",
       "      <td>0.007843</td>\n",
       "      <td>0.133333</td>\n",
       "      <td>0.423529</td>\n",
       "      <td>0.454902</td>\n",
       "      <td>0.447059</td>\n",
       "      <td>0.466667</td>\n",
       "      <td>0.513725</td>\n",
       "      <td>0.545098</td>\n",
       "      <td>0.545098</td>\n",
       "      <td>0.568627</td>\n",
       "      <td>...</td>\n",
       "      <td>0.721569</td>\n",
       "      <td>0.678431</td>\n",
       "      <td>0.662745</td>\n",
       "      <td>0.658824</td>\n",
       "      <td>0.658824</td>\n",
       "      <td>0.560784</td>\n",
       "      <td>0.541176</td>\n",
       "      <td>0.325490</td>\n",
       "      <td>0.090196</td>\n",
       "      <td>0.011765</td>\n",
       "    </tr>\n",
       "    <tr>\n",
       "      <th>10012</th>\n",
       "      <td>0.478431</td>\n",
       "      <td>0.603922</td>\n",
       "      <td>0.635294</td>\n",
       "      <td>0.666667</td>\n",
       "      <td>0.701961</td>\n",
       "      <td>0.772549</td>\n",
       "      <td>0.784314</td>\n",
       "      <td>0.764706</td>\n",
       "      <td>0.792157</td>\n",
       "      <td>0.780392</td>\n",
       "      <td>...</td>\n",
       "      <td>0.874510</td>\n",
       "      <td>0.866667</td>\n",
       "      <td>0.843137</td>\n",
       "      <td>0.803922</td>\n",
       "      <td>0.733333</td>\n",
       "      <td>0.819608</td>\n",
       "      <td>0.776471</td>\n",
       "      <td>0.733333</td>\n",
       "      <td>0.643137</td>\n",
       "      <td>0.611765</td>\n",
       "    </tr>\n",
       "    <tr>\n",
       "      <th>10013</th>\n",
       "      <td>0.537255</td>\n",
       "      <td>0.560784</td>\n",
       "      <td>0.552941</td>\n",
       "      <td>0.545098</td>\n",
       "      <td>0.576471</td>\n",
       "      <td>0.596078</td>\n",
       "      <td>0.607843</td>\n",
       "      <td>0.596078</td>\n",
       "      <td>0.607843</td>\n",
       "      <td>0.623529</td>\n",
       "      <td>...</td>\n",
       "      <td>0.698039</td>\n",
       "      <td>0.674510</td>\n",
       "      <td>0.670588</td>\n",
       "      <td>0.686275</td>\n",
       "      <td>0.717647</td>\n",
       "      <td>0.694118</td>\n",
       "      <td>0.666667</td>\n",
       "      <td>0.662745</td>\n",
       "      <td>0.650980</td>\n",
       "      <td>0.666667</td>\n",
       "    </tr>\n",
       "    <tr>\n",
       "      <th>10014</th>\n",
       "      <td>0.584314</td>\n",
       "      <td>0.615686</td>\n",
       "      <td>0.615686</td>\n",
       "      <td>0.596078</td>\n",
       "      <td>0.592157</td>\n",
       "      <td>0.596078</td>\n",
       "      <td>0.603922</td>\n",
       "      <td>0.639216</td>\n",
       "      <td>0.584314</td>\n",
       "      <td>0.568627</td>\n",
       "      <td>...</td>\n",
       "      <td>0.650980</td>\n",
       "      <td>0.623529</td>\n",
       "      <td>0.603922</td>\n",
       "      <td>0.568627</td>\n",
       "      <td>0.415686</td>\n",
       "      <td>0.262745</td>\n",
       "      <td>0.243137</td>\n",
       "      <td>0.403922</td>\n",
       "      <td>0.572549</td>\n",
       "      <td>0.580392</td>\n",
       "    </tr>\n",
       "  </tbody>\n",
       "</table>\n",
       "<p>10015 rows × 784 columns</p>\n",
       "</div>"
      ],
      "text/plain": [
       "       pixel0000  pixel0001  pixel0002  pixel0003  pixel0004  pixel0005  \\\n",
       "0       0.662745   0.670588   0.666667   0.694118   0.709804   0.713725   \n",
       "1       0.074510   0.223529   0.411765   0.549020   0.584314   0.580392   \n",
       "2       0.607843   0.639216   0.631373   0.654902   0.654902   0.674510   \n",
       "3       0.098039   0.278431   0.454902   0.545098   0.533333   0.600000   \n",
       "4       0.505882   0.635294   0.709804   0.768627   0.803922   0.815686   \n",
       "...          ...        ...        ...        ...        ...        ...   \n",
       "10010   0.674510   0.670588   0.678431   0.686275   0.643137   0.733333   \n",
       "10011   0.007843   0.133333   0.423529   0.454902   0.447059   0.466667   \n",
       "10012   0.478431   0.603922   0.635294   0.666667   0.701961   0.772549   \n",
       "10013   0.537255   0.560784   0.552941   0.545098   0.576471   0.596078   \n",
       "10014   0.584314   0.615686   0.615686   0.596078   0.592157   0.596078   \n",
       "\n",
       "       pixel0006  pixel0007  pixel0008  pixel0009  ...  pixel0774  pixel0775  \\\n",
       "0       0.709804   0.725490   0.760784   0.752941  ...   0.690196   0.721569   \n",
       "1       0.564706   0.607843   0.666667   0.666667  ...   0.709804   0.674510   \n",
       "2       0.607843   0.596078   0.647059   0.686275  ...   0.635294   0.639216   \n",
       "3       0.580392   0.631373   0.674510   0.635294  ...   0.556863   0.490196   \n",
       "4       0.803922   0.835294   0.882353   0.878431  ...   0.827451   0.823529   \n",
       "...          ...        ...        ...        ...  ...        ...        ...   \n",
       "10010   0.811765   0.823529   0.815686   0.807843  ...   0.823529   0.823529   \n",
       "10011   0.513725   0.545098   0.545098   0.568627  ...   0.721569   0.678431   \n",
       "10012   0.784314   0.764706   0.792157   0.780392  ...   0.874510   0.866667   \n",
       "10013   0.607843   0.596078   0.607843   0.623529  ...   0.698039   0.674510   \n",
       "10014   0.603922   0.639216   0.584314   0.568627  ...   0.650980   0.623529   \n",
       "\n",
       "       pixel0776  pixel0777  pixel0778  pixel0779  pixel0780  pixel0781  \\\n",
       "0       0.729412   0.725490   0.705882   0.615686   0.549020   0.549020   \n",
       "1       0.686275   0.627451   0.564706   0.447059   0.349020   0.184314   \n",
       "2       0.698039   0.615686   0.650980   0.654902   0.580392   0.552941   \n",
       "3       0.529412   0.541176   0.537255   0.435294   0.278431   0.125490   \n",
       "4       0.772549   0.674510   0.745098   0.764706   0.756863   0.709804   \n",
       "...          ...        ...        ...        ...        ...        ...   \n",
       "10010   0.850980   0.866667   0.819608   0.725490   0.733333   0.752941   \n",
       "10011   0.662745   0.658824   0.658824   0.560784   0.541176   0.325490   \n",
       "10012   0.843137   0.803922   0.733333   0.819608   0.776471   0.733333   \n",
       "10013   0.670588   0.686275   0.717647   0.694118   0.666667   0.662745   \n",
       "10014   0.603922   0.568627   0.415686   0.262745   0.243137   0.403922   \n",
       "\n",
       "       pixel0782  pixel0783  \n",
       "0       0.623529   0.647059  \n",
       "1       0.070588   0.070588  \n",
       "2       0.533333   0.450980  \n",
       "3       0.062745   0.062745  \n",
       "4       0.576471   0.345098  \n",
       "...          ...        ...  \n",
       "10010   0.752941   0.752941  \n",
       "10011   0.090196   0.011765  \n",
       "10012   0.643137   0.611765  \n",
       "10013   0.650980   0.666667  \n",
       "10014   0.572549   0.580392  \n",
       "\n",
       "[10015 rows x 784 columns]"
      ]
     },
     "execution_count": 9,
     "metadata": {},
     "output_type": "execute_result"
    }
   ],
   "source": [
    "X"
   ]
  },
  {
   "cell_type": "code",
   "execution_count": 10,
   "id": "69cd3e46",
   "metadata": {},
   "outputs": [],
   "source": [
    "## Reshaping"
   ]
  },
  {
   "cell_type": "code",
   "execution_count": 11,
   "id": "e226e4d6",
   "metadata": {},
   "outputs": [
    {
     "name": "stdout",
     "output_type": "stream",
     "text": [
      "(10015, 784)\n"
     ]
    }
   ],
   "source": [
    "X = np.array(X)\n",
    "print(X.shape) "
   ]
  },
  {
   "cell_type": "code",
   "execution_count": 12,
   "id": "6290ee37",
   "metadata": {},
   "outputs": [
    {
     "data": {
      "text/plain": [
       "(10015, 28, 28, 1)"
      ]
     },
     "execution_count": 12,
     "metadata": {},
     "output_type": "execute_result"
    }
   ],
   "source": [
    "X.reshape(-1, 28, 28, 1).shape"
   ]
  },
  {
   "cell_type": "code",
   "execution_count": 13,
   "id": "b1cb993e",
   "metadata": {},
   "outputs": [],
   "source": [
    "X = X.reshape(-1, 28, 28, 1)"
   ]
  },
  {
   "cell_type": "code",
   "execution_count": 14,
   "id": "a70a7685",
   "metadata": {},
   "outputs": [
    {
     "data": {
      "text/plain": [
       "(10015, 28, 28, 1)"
      ]
     },
     "execution_count": 14,
     "metadata": {},
     "output_type": "execute_result"
    }
   ],
   "source": [
    "X.shape"
   ]
  },
  {
   "cell_type": "markdown",
   "id": "9be6eb7a",
   "metadata": {},
   "source": [
    "### visualise some of the images"
   ]
  },
  {
   "cell_type": "code",
   "execution_count": 15,
   "id": "708a8177",
   "metadata": {},
   "outputs": [],
   "source": [
    "sample_data = pd.Series(list(zip(X, y))).sample(9)\n",
    "sample_X = np.stack(np.array(sample_data.apply(lambda x: x[0])))\n",
    "sample_Y = np.array(sample_data.apply(lambda x: x[1]))"
   ]
  },
  {
   "cell_type": "code",
   "execution_count": 16,
   "id": "d30a4102",
   "metadata": {},
   "outputs": [
    {
     "data": {
      "text/plain": [
       "(9, 28, 28, 1)"
      ]
     },
     "execution_count": 16,
     "metadata": {},
     "output_type": "execute_result"
    }
   ],
   "source": [
    "sample_X.shape"
   ]
  },
  {
   "cell_type": "code",
   "execution_count": 17,
   "id": "2778443b",
   "metadata": {},
   "outputs": [
    {
     "data": {
      "text/plain": [
       "array([4, 4, 4, 1, 4, 4, 4, 1, 4], dtype=int64)"
      ]
     },
     "execution_count": 17,
     "metadata": {},
     "output_type": "execute_result"
    }
   ],
   "source": [
    "sample_Y"
   ]
  },
  {
   "cell_type": "code",
   "execution_count": 18,
   "id": "b0ff286c",
   "metadata": {},
   "outputs": [
    {
     "data": {
      "text/plain": [
       "<function matplotlib.pyplot.show(close=None, block=None)>"
      ]
     },
     "execution_count": 18,
     "metadata": {},
     "output_type": "execute_result"
    },
    {
     "data": {
      "image/png": "[encoded data removed]",
      "text/plain": [
       "<Figure size 864x864 with 9 Axes>"
      ]
     },
     "metadata": {},
     "output_type": "display_data"
    }
   ],
   "source": [
    "plt.figure(figsize= (12,12))\n",
    "for i in range(9):\n",
    "    plt.subplot(3,3, i + 1)\n",
    "    plt.imshow(np.squeeze(sample_X[i]))\n",
    "    img_label = label_mapping[sample_Y[i]]\n",
    "    plt.title(img_label)\n",
    "    plt.axis(\"off\")\n",
    "    \n",
    "plt.show"
   ]
  },
  {
   "cell_type": "markdown",
   "id": "45ec91ba",
   "metadata": {},
   "source": [
    "#### train test split"
   ]
  },
  {
   "cell_type": "code",
   "execution_count": 19,
   "id": "af0222bf",
   "metadata": {},
   "outputs": [],
   "source": [
    "X_train, X_test, y_train, y_test= train_test_split(X,y, train_size=0.7, random_state=42)"
   ]
  },
  {
   "cell_type": "markdown",
   "id": "a46a9de7",
   "metadata": {},
   "source": [
    "### Making 2 D convolutional model to extract features from the images "
   ]
  },
  {
   "cell_type": "code",
   "execution_count": 20,
   "id": "7e3aaf9b",
   "metadata": {},
   "outputs": [
    {
     "name": "stdout",
     "output_type": "stream",
     "text": [
      "Model: \"model\"\n",
      "_________________________________________________________________\n",
      " Layer (type)                Output Shape              Param #   \n",
      "=================================================================\n",
      " input (InputLayer)          [(None, 28, 28, 1)]       0         \n",
      "                                                                 \n",
      " conv1 (Conv2D)              (None, 26, 26, 16)        160       \n",
      "                                                                 \n",
      " maxpool1 (MaxPooling2D)     (None, 13, 13, 16)        0         \n",
      "                                                                 \n",
      " conv2 (Conv2D)              (None, 11, 11, 32)        4640      \n",
      "                                                                 \n",
      " maxpool2 (MaxPooling2D)     (None, 5, 5, 32)          0         \n",
      "                                                                 \n",
      " conv3 (Conv2D)              (None, 3, 3, 64)          18496     \n",
      "                                                                 \n",
      " maxpool3 (MaxPooling2D)     (None, 1, 1, 64)          0         \n",
      "                                                                 \n",
      " avgpool (GlobalAveragePooli  (None, 64)               0         \n",
      " ng2D)                                                           \n",
      "                                                                 \n",
      " output (Dense)              (None, 7)                 455       \n",
      "                                                                 \n",
      "=================================================================\n",
      "Total params: 23,751\n",
      "Trainable params: 23,751\n",
      "Non-trainable params: 0\n",
      "_________________________________________________________________\n",
      "None\n"
     ]
    },
    {
     "data": {
      "image/png": "[encoded data removed]",
      "text/plain": [
       "<IPython.core.display.Image object>"
      ]
     },
     "execution_count": 20,
     "metadata": {},
     "output_type": "execute_result"
    }
   ],
   "source": [
    "inputs = tf.keras.Input(shape=(28, 28, 1), name='input')\n",
    "\n",
    "conv1 = tf.keras.layers.Conv2D(filters=16, kernel_size=3, name='conv1')(inputs)\n",
    "maxpool1 = tf.keras.layers.MaxPooling2D(name='maxpool1')(conv1)\n",
    "\n",
    "conv2 = tf.keras.layers.Conv2D(filters=32, kernel_size=3, name='conv2')(maxpool1)\n",
    "maxpool2 = tf.keras.layers.MaxPooling2D(name='maxpool2')(conv2)\n",
    "\n",
    "conv3 = tf.keras.layers.Conv2D(filters=64, kernel_size=3, name='conv3')(maxpool2)\n",
    "maxpool3 = tf.keras.layers.MaxPooling2D(name='maxpool3')(conv3)\n",
    "\n",
    "avgpool = tf.keras.layers.GlobalAveragePooling2D(name='avgpool')(maxpool3)\n",
    "\n",
    "outputs = tf.keras.layers.Dense(7, activation = 'softmax', name='output')(avgpool)\n",
    "\n",
    "model = tf.keras.Model(inputs= inputs, outputs=outputs)\n",
    "\n",
    "print(model.summary())\n",
    "tf.keras.utils.plot_model(model)"
   ]
  },
  {
   "cell_type": "markdown",
   "id": "3a54d150",
   "metadata": {},
   "source": [
    "### Training"
   ]
  },
  {
   "cell_type": "code",
   "execution_count": 21,
   "id": "8767c6e7",
   "metadata": {},
   "outputs": [
    {
     "name": "stdout",
     "output_type": "stream",
     "text": [
      "Epoch 1/50\n"
     ]
    },
    {
     "name": "stderr",
     "output_type": "stream",
     "text": [
      "C:\\Users\\gusbo\\anaconda3\\envs\\comp47350py38\\lib\\site-packages\\keras\\engine\\data_adapter.py:1696: FutureWarning: The behavior of `series[i:j]` with an integer-dtype index is deprecated. In a future version, this will be treated as *label-based* indexing, consistent with e.g. `series[i]` lookups. To retain the old behavior, use `series.iloc[i:j]`. To get the future behavior, use `series.loc[i:j]`.\n",
      "  return t[start:end]\n"
     ]
    },
    {
     "name": "stdout",
     "output_type": "stream",
     "text": [
      "176/176 [==============================] - 7s 26ms/step - loss: 1.1572 - accuracy: 0.6690 - val_loss: 1.0266 - val_accuracy: 0.6826\n",
      "Epoch 2/50\n",
      "176/176 [==============================] - 4s 24ms/step - loss: 1.0268 - accuracy: 0.6714 - val_loss: 0.9392 - val_accuracy: 0.6904\n",
      "Epoch 3/50\n",
      "176/176 [==============================] - 4s 23ms/step - loss: 0.9795 - accuracy: 0.6710 - val_loss: 0.9054 - val_accuracy: 0.6961\n",
      "Epoch 4/50\n",
      "176/176 [==============================] - 4s 23ms/step - loss: 0.9524 - accuracy: 0.6792 - val_loss: 0.9037 - val_accuracy: 0.6976\n",
      "Epoch 5/50\n",
      "176/176 [==============================] - 4s 23ms/step - loss: 0.9272 - accuracy: 0.6824 - val_loss: 0.9084 - val_accuracy: 0.6926\n",
      "Epoch 6/50\n",
      "176/176 [==============================] - 4s 23ms/step - loss: 0.9172 - accuracy: 0.6878 - val_loss: 0.8744 - val_accuracy: 0.6983\n",
      "Epoch 7/50\n",
      "176/176 [==============================] - 4s 23ms/step - loss: 0.8975 - accuracy: 0.6896 - val_loss: 0.8564 - val_accuracy: 0.7019\n",
      "Epoch 8/50\n",
      "176/176 [==============================] - 4s 23ms/step - loss: 0.8798 - accuracy: 0.6944 - val_loss: 0.8741 - val_accuracy: 0.6997\n",
      "Epoch 9/50\n",
      "176/176 [==============================] - 4s 23ms/step - loss: 0.8778 - accuracy: 0.6917 - val_loss: 0.8416 - val_accuracy: 0.7068\n",
      "Epoch 10/50\n",
      "176/176 [==============================] - 4s 23ms/step - loss: 0.8582 - accuracy: 0.7010 - val_loss: 0.8613 - val_accuracy: 0.7076\n",
      "Epoch 11/50\n",
      "176/176 [==============================] - 4s 23ms/step - loss: 0.8580 - accuracy: 0.7011 - val_loss: 0.9108 - val_accuracy: 0.7011\n",
      "Epoch 12/50\n",
      "176/176 [==============================] - 4s 23ms/step - loss: 0.8435 - accuracy: 0.7020 - val_loss: 0.8529 - val_accuracy: 0.7111\n"
     ]
    }
   ],
   "source": [
    "model.compile(\n",
    "    optimizer='adam',\n",
    "loss='sparse_categorical_crossentropy',\n",
    "metrics=['accuracy'])\n",
    "\n",
    "batch_size = 32\n",
    "epochs = 50\n",
    "\n",
    "history = model.fit(\n",
    "    X_train,\n",
    "    y_train,\n",
    "    validation_split=0.2,\n",
    "    batch_size = batch_size,\n",
    "    epochs = epochs,\n",
    "    callbacks = [\n",
    "        tf.keras.callbacks.EarlyStopping(\n",
    "        monitor = 'val_loss',\n",
    "        patience= 3,\n",
    "        restore_best_weights= True\n",
    "        )\n",
    "    ]\n",
    "\n",
    ")"
   ]
  },
  {
   "cell_type": "markdown",
   "id": "c16ccc73",
   "metadata": {},
   "source": [
    "### Result "
   ]
  },
  {
   "cell_type": "code",
   "execution_count": 22,
   "id": "0e4b17c7",
   "metadata": {},
   "outputs": [
    {
     "name": "stdout",
     "output_type": "stream",
     "text": [
      "Test acc : 68.752%\n"
     ]
    }
   ],
   "source": [
    "model_acc = model.evaluate(X_test, y_test, verbose=0)[1]\n",
    "print(\"Test acc : {:.3f}%\".format(model_acc * 100))"
   ]
  },
  {
   "cell_type": "code",
   "execution_count": 23,
   "id": "cc77ab76",
   "metadata": {},
   "outputs": [
    {
     "name": "stdout",
     "output_type": "stream",
     "text": [
      "94/94 [==============================] - 1s 9ms/step\n"
     ]
    }
   ],
   "source": [
    "y_true = np.array(y_test)\n",
    "\n",
    "y_pred = model.predict(X_test)\n",
    "y_pred = np.array(list(map(lambda x: np.argmax(x),y_pred)))"
   ]
  },
  {
   "cell_type": "code",
   "execution_count": 24,
   "id": "2209f014",
   "metadata": {},
   "outputs": [
    {
     "data": {
      "text/plain": [
       "array([6, 4, 6, ..., 4, 6, 6], dtype=int64)"
      ]
     },
     "execution_count": 24,
     "metadata": {},
     "output_type": "execute_result"
    }
   ],
   "source": [
    "y_true"
   ]
  },
  {
   "cell_type": "code",
   "execution_count": 25,
   "id": "1c17b646",
   "metadata": {},
   "outputs": [
    {
     "data": {
      "text/plain": [
       "array([4, 4, 4, ..., 4, 6, 6], dtype=int64)"
      ]
     },
     "execution_count": 25,
     "metadata": {},
     "output_type": "execute_result"
    }
   ],
   "source": [
    "y_pred"
   ]
  },
  {
   "cell_type": "code",
   "execution_count": 26,
   "id": "ef7dd8d3",
   "metadata": {},
   "outputs": [],
   "source": [
    "# list(map(lambda x: np.argmax(x), model.predict(X_test)))"
   ]
  },
  {
   "cell_type": "code",
   "execution_count": 27,
   "id": "7907d8f4",
   "metadata": {},
   "outputs": [
    {
     "name": "stderr",
     "output_type": "stream",
     "text": [
      "C:\\Users\\gusbo\\anaconda3\\envs\\comp47350py38\\lib\\site-packages\\sklearn\\metrics\\_classification.py:1318: UndefinedMetricWarning: Precision and F-score are ill-defined and being set to 0.0 in labels with no predicted samples. Use `zero_division` parameter to control this behavior.\n",
      "  _warn_prf(average, modifier, msg_start, len(result))\n",
      "C:\\Users\\gusbo\\anaconda3\\envs\\comp47350py38\\lib\\site-packages\\sklearn\\metrics\\_classification.py:1318: UndefinedMetricWarning: Precision and F-score are ill-defined and being set to 0.0 in labels with no predicted samples. Use `zero_division` parameter to control this behavior.\n",
      "  _warn_prf(average, modifier, msg_start, len(result))\n",
      "C:\\Users\\gusbo\\anaconda3\\envs\\comp47350py38\\lib\\site-packages\\sklearn\\metrics\\_classification.py:1318: UndefinedMetricWarning: Precision and F-score are ill-defined and being set to 0.0 in labels with no predicted samples. Use `zero_division` parameter to control this behavior.\n",
      "  _warn_prf(average, modifier, msg_start, len(result))\n"
     ]
    }
   ],
   "source": [
    "cm = confusion_matrix(y_true, y_pred)\n",
    "clr = classification_report(y_true, y_pred, target_names= label_mapping.values())"
   ]
  },
  {
   "cell_type": "code",
   "execution_count": 28,
   "id": "e088c065",
   "metadata": {},
   "outputs": [
    {
     "data": {
      "image/png": "[encoded data removed]",
      "text/plain": [
       "<Figure size 576x576 with 1 Axes>"
      ]
     },
     "metadata": {},
     "output_type": "display_data"
    }
   ],
   "source": [
    "plt.figure(figsize=(8,8))\n",
    "sns.heatmap(cm, annot= True, fmt='g', vmin=0, cbar=False, cmap='Blues')\n",
    "plt.xticks(np.arange(7)+0.5, label_mapping.values())\n",
    "plt.yticks(np.arange(7)+0.5, label_mapping.values())\n",
    "\n",
    "plt.xlabel(\"predicted\")\n",
    "plt.ylabel(\"actual\")\n",
    "plt.title(\"confustion matrix\")\n",
    "plt.show()"
   ]
  },
  {
   "cell_type": "code",
   "execution_count": 29,
   "id": "f5a68b7e",
   "metadata": {},
   "outputs": [
    {
     "name": "stdout",
     "output_type": "stream",
     "text": [
      "              precision    recall  f1-score   support\n",
      "\n",
      "       akiec       0.33      0.03      0.06        96\n",
      "         mel       0.33      0.22      0.27       143\n",
      "         bkl       0.32      0.10      0.16       350\n",
      "         bcc       0.00      0.00      0.00        39\n",
      "          nv       0.73      0.96      0.83      1997\n",
      "        vasc       0.00      0.00      0.00        33\n",
      "          df       0.46      0.24      0.31       347\n",
      "\n",
      "    accuracy                           0.69      3005\n",
      "   macro avg       0.31      0.22      0.23      3005\n",
      "weighted avg       0.60      0.69      0.62      3005\n",
      "\n"
     ]
    }
   ],
   "source": [
    "print(clr)"
   ]
  },
  {
   "cell_type": "code",
   "execution_count": 30,
   "id": "82b43eab",
   "metadata": {},
   "outputs": [
    {
     "name": "stdout",
     "output_type": "stream",
     "text": [
      "1/1 [==============================] - 0s 40ms/step\n"
     ]
    },
    {
     "data": {
      "text/plain": [
       "(1, 7)"
      ]
     },
     "execution_count": 30,
     "metadata": {},
     "output_type": "execute_result"
    }
   ],
   "source": [
    "model.predict(X_test[:1]).shape"
   ]
  },
  {
   "cell_type": "markdown",
   "id": "ce04916e",
   "metadata": {},
   "source": [
    "### Saving model for deployment"
   ]
  },
  {
   "cell_type": "code",
   "execution_count": 31,
   "id": "7be36e64",
   "metadata": {},
   "outputs": [
    {
     "name": "stderr",
     "output_type": "stream",
     "text": [
      "WARNING:absl:Found untraced functions such as _jit_compiled_convolution_op, _jit_compiled_convolution_op, _jit_compiled_convolution_op, _update_step_xla while saving (showing 4 of 4). These functions will not be directly callable after loading.\n"
     ]
    },
    {
     "name": "stdout",
     "output_type": "stream",
     "text": [
      "INFO:tensorflow:Assets written to: ./saved_model\\assets\n"
     ]
    },
    {
     "name": "stderr",
     "output_type": "stream",
     "text": [
      "INFO:tensorflow:Assets written to: ./saved_model\\assets\n"
     ]
    }
   ],
   "source": [
    "# filepath = './saved_model'\n",
    "# save_model(model, filepath)"
   ]
  },
  {
   "cell_type": "code",
   "execution_count": 32,
   "id": "7164dff5",
   "metadata": {},
   "outputs": [],
   "source": [
    "model.save('my_model.h5')\n"
   ]
  },
  {
   "cell_type": "code",
   "execution_count": 33,
   "id": "6b6d0f8d",
   "metadata": {},
   "outputs": [],
   "source": [
    "# model = load_model(filepath, compile = True)\n",
    "loaded_model = load_model('my_model.h5')\n"
   ]
  },
  {
   "cell_type": "code",
   "execution_count": 34,
   "id": "deab5e06",
   "metadata": {},
   "outputs": [
    {
     "data": {
      "text/plain": [
       "(1, 28, 28, 1)"
      ]
     },
     "execution_count": 34,
     "metadata": {},
     "output_type": "execute_result"
    }
   ],
   "source": [
    "X_test[15:16].shape"
   ]
  },
  {
   "cell_type": "code",
   "execution_count": 35,
   "id": "4f9b9224",
   "metadata": {},
   "outputs": [
    {
     "name": "stdout",
     "output_type": "stream",
     "text": [
      "1/1 [==============================] - 0s 139ms/step\n",
      "[[0.01252298 0.0300137  0.06227158 0.01217655 0.8195612  0.02421579\n",
      "  0.03923822]]\n"
     ]
    }
   ],
   "source": [
    "predictions = loaded_model.predict(X_test[15:16])\n",
    "print(predictions)"
   ]
  },
  {
   "cell_type": "code",
   "execution_count": 36,
   "id": "17eb879d",
   "metadata": {},
   "outputs": [
    {
     "name": "stdout",
     "output_type": "stream",
     "text": [
      "4\n"
     ]
    }
   ],
   "source": [
    "classes = np.argmax(predictions, axis = 1)\n",
    "print(classes[0])"
   ]
  },
  {
   "cell_type": "code",
   "execution_count": 37,
   "id": "cc08f72e",
   "metadata": {},
   "outputs": [
    {
     "data": {
      "text/plain": [
       "'nv'"
      ]
     },
     "execution_count": 37,
     "metadata": {},
     "output_type": "execute_result"
    }
   ],
   "source": [
    "label_mapping[classes[0]]"
   ]
  },
  {
   "cell_type": "markdown",
   "id": "fc630f8c",
   "metadata": {},
   "source": [
    "#### Using new data"
   ]
  },
  {
   "cell_type": "code",
   "execution_count": 38,
   "id": "d6b4711e",
   "metadata": {},
   "outputs": [
    {
     "name": "stdout",
     "output_type": "stream",
     "text": [
      "             pixels_0 pixels_1 pixels_2 pixels_3 pixels_4 pixels_5 pixels_6  \\\n",
      "test_img.jpg     26.0     33.0     41.0     36.0     50.0     50.0     44.0   \n",
      "\n",
      "             pixels_7 pixels_8 pixels_9  ... pixels_774 pixels_775 pixels_776  \\\n",
      "test_img.jpg     47.0     48.0     49.0  ...        7.0        4.0        4.0   \n",
      "\n",
      "             pixels_777 pixels_778 pixels_779 pixels_780 pixels_781  \\\n",
      "test_img.jpg        3.0        6.0       10.0        4.0        5.0   \n",
      "\n",
      "             pixels_782 pixels_783  \n",
      "test_img.jpg        9.0        7.0  \n",
      "\n",
      "[1 rows x 784 columns]\n"
     ]
    }
   ],
   "source": [
    "import cv2\n",
    "image_files = pd.DataFrame(columns=range(784)).add_prefix('pixels_')\n",
    "r_image = cv2.imread(f'test_img.jpg')\n",
    "numpy_image = cv2.cvtColor(r_image, cv2.COLOR_BGR2GRAY)\n",
    "image = cv2.resize(numpy_image, (28, 28)).astype(np.float32)\n",
    "image = image.reshape(-1)\n",
    "image_files.loc[f'test_img.jpg', 'pixels_0':] = image\n",
    "print(image_files.head())"
   ]
  },
  {
   "cell_type": "markdown",
   "id": "8d4e3b32",
   "metadata": {},
   "source": [
    "#### Looking at all pixels of test image"
   ]
  },
  {
   "cell_type": "code",
   "execution_count": 39,
   "id": "2e890cd8",
   "metadata": {},
   "outputs": [
    {
     "data": {
      "text/html": [
       "<div>\n",
       "<style scoped>\n",
       "    .dataframe tbody tr th:only-of-type {\n",
       "        vertical-align: middle;\n",
       "    }\n",
       "\n",
       "    .dataframe tbody tr th {\n",
       "        vertical-align: top;\n",
       "    }\n",
       "\n",
       "    .dataframe thead th {\n",
       "        text-align: right;\n",
       "    }\n",
       "</style>\n",
       "<table border=\"1\" class=\"dataframe\">\n",
       "  <thead>\n",
       "    <tr style=\"text-align: right;\">\n",
       "      <th></th>\n",
       "      <th>pixels_0</th>\n",
       "      <th>pixels_1</th>\n",
       "      <th>pixels_2</th>\n",
       "      <th>pixels_3</th>\n",
       "      <th>pixels_4</th>\n",
       "      <th>pixels_5</th>\n",
       "      <th>pixels_6</th>\n",
       "      <th>pixels_7</th>\n",
       "      <th>pixels_8</th>\n",
       "      <th>pixels_9</th>\n",
       "      <th>...</th>\n",
       "      <th>pixels_774</th>\n",
       "      <th>pixels_775</th>\n",
       "      <th>pixels_776</th>\n",
       "      <th>pixels_777</th>\n",
       "      <th>pixels_778</th>\n",
       "      <th>pixels_779</th>\n",
       "      <th>pixels_780</th>\n",
       "      <th>pixels_781</th>\n",
       "      <th>pixels_782</th>\n",
       "      <th>pixels_783</th>\n",
       "    </tr>\n",
       "  </thead>\n",
       "  <tbody>\n",
       "    <tr>\n",
       "      <th>test_img.jpg</th>\n",
       "      <td>26.0</td>\n",
       "      <td>33.0</td>\n",
       "      <td>41.0</td>\n",
       "      <td>36.0</td>\n",
       "      <td>50.0</td>\n",
       "      <td>50.0</td>\n",
       "      <td>44.0</td>\n",
       "      <td>47.0</td>\n",
       "      <td>48.0</td>\n",
       "      <td>49.0</td>\n",
       "      <td>...</td>\n",
       "      <td>7.0</td>\n",
       "      <td>4.0</td>\n",
       "      <td>4.0</td>\n",
       "      <td>3.0</td>\n",
       "      <td>6.0</td>\n",
       "      <td>10.0</td>\n",
       "      <td>4.0</td>\n",
       "      <td>5.0</td>\n",
       "      <td>9.0</td>\n",
       "      <td>7.0</td>\n",
       "    </tr>\n",
       "  </tbody>\n",
       "</table>\n",
       "<p>1 rows × 784 columns</p>\n",
       "</div>"
      ],
      "text/plain": [
       "             pixels_0 pixels_1 pixels_2 pixels_3 pixels_4 pixels_5 pixels_6  \\\n",
       "test_img.jpg     26.0     33.0     41.0     36.0     50.0     50.0     44.0   \n",
       "\n",
       "             pixels_7 pixels_8 pixels_9  ... pixels_774 pixels_775 pixels_776  \\\n",
       "test_img.jpg     47.0     48.0     49.0  ...        7.0        4.0        4.0   \n",
       "\n",
       "             pixels_777 pixels_778 pixels_779 pixels_780 pixels_781  \\\n",
       "test_img.jpg        3.0        6.0       10.0        4.0        5.0   \n",
       "\n",
       "             pixels_782 pixels_783  \n",
       "test_img.jpg        9.0        7.0  \n",
       "\n",
       "[1 rows x 784 columns]"
      ]
     },
     "execution_count": 39,
     "metadata": {},
     "output_type": "execute_result"
    }
   ],
   "source": [
    "image_files"
   ]
  },
  {
   "cell_type": "markdown",
   "id": "b035b1c4",
   "metadata": {},
   "source": [
    "### scaling pixels so they are between 0 and 1"
   ]
  },
  {
   "cell_type": "code",
   "execution_count": 40,
   "id": "df900290",
   "metadata": {},
   "outputs": [],
   "source": [
    "image_files = image_files / 255"
   ]
  },
  {
   "cell_type": "code",
   "execution_count": 41,
   "id": "a2873a9b",
   "metadata": {},
   "outputs": [
    {
     "data": {
      "text/html": [
       "<div>\n",
       "<style scoped>\n",
       "    .dataframe tbody tr th:only-of-type {\n",
       "        vertical-align: middle;\n",
       "    }\n",
       "\n",
       "    .dataframe tbody tr th {\n",
       "        vertical-align: top;\n",
       "    }\n",
       "\n",
       "    .dataframe thead th {\n",
       "        text-align: right;\n",
       "    }\n",
       "</style>\n",
       "<table border=\"1\" class=\"dataframe\">\n",
       "  <thead>\n",
       "    <tr style=\"text-align: right;\">\n",
       "      <th></th>\n",
       "      <th>pixels_0</th>\n",
       "      <th>pixels_1</th>\n",
       "      <th>pixels_2</th>\n",
       "      <th>pixels_3</th>\n",
       "      <th>pixels_4</th>\n",
       "      <th>pixels_5</th>\n",
       "      <th>pixels_6</th>\n",
       "      <th>pixels_7</th>\n",
       "      <th>pixels_8</th>\n",
       "      <th>pixels_9</th>\n",
       "      <th>...</th>\n",
       "      <th>pixels_774</th>\n",
       "      <th>pixels_775</th>\n",
       "      <th>pixels_776</th>\n",
       "      <th>pixels_777</th>\n",
       "      <th>pixels_778</th>\n",
       "      <th>pixels_779</th>\n",
       "      <th>pixels_780</th>\n",
       "      <th>pixels_781</th>\n",
       "      <th>pixels_782</th>\n",
       "      <th>pixels_783</th>\n",
       "    </tr>\n",
       "  </thead>\n",
       "  <tbody>\n",
       "    <tr>\n",
       "      <th>test_img.jpg</th>\n",
       "      <td>0.101961</td>\n",
       "      <td>0.129412</td>\n",
       "      <td>0.160784</td>\n",
       "      <td>0.141176</td>\n",
       "      <td>0.196078</td>\n",
       "      <td>0.196078</td>\n",
       "      <td>0.172549</td>\n",
       "      <td>0.184314</td>\n",
       "      <td>0.188235</td>\n",
       "      <td>0.192157</td>\n",
       "      <td>...</td>\n",
       "      <td>0.027451</td>\n",
       "      <td>0.015686</td>\n",
       "      <td>0.015686</td>\n",
       "      <td>0.011765</td>\n",
       "      <td>0.023529</td>\n",
       "      <td>0.039216</td>\n",
       "      <td>0.015686</td>\n",
       "      <td>0.019608</td>\n",
       "      <td>0.035294</td>\n",
       "      <td>0.027451</td>\n",
       "    </tr>\n",
       "  </tbody>\n",
       "</table>\n",
       "<p>1 rows × 784 columns</p>\n",
       "</div>"
      ],
      "text/plain": [
       "              pixels_0  pixels_1  pixels_2  pixels_3  pixels_4  pixels_5  \\\n",
       "test_img.jpg  0.101961  0.129412  0.160784  0.141176  0.196078  0.196078   \n",
       "\n",
       "              pixels_6  pixels_7  pixels_8  pixels_9  ... pixels_774  \\\n",
       "test_img.jpg  0.172549  0.184314  0.188235  0.192157  ...   0.027451   \n",
       "\n",
       "             pixels_775 pixels_776 pixels_777 pixels_778 pixels_779  \\\n",
       "test_img.jpg   0.015686   0.015686   0.011765   0.023529   0.039216   \n",
       "\n",
       "             pixels_780 pixels_781 pixels_782 pixels_783  \n",
       "test_img.jpg   0.015686   0.019608   0.035294   0.027451  \n",
       "\n",
       "[1 rows x 784 columns]"
      ]
     },
     "execution_count": 41,
     "metadata": {},
     "output_type": "execute_result"
    }
   ],
   "source": [
    "image_files"
   ]
  },
  {
   "cell_type": "code",
   "execution_count": 42,
   "id": "48f92364",
   "metadata": {},
   "outputs": [],
   "source": [
    "test1 = image_files.to_numpy()"
   ]
  },
  {
   "cell_type": "code",
   "execution_count": 43,
   "id": "5408bbbe",
   "metadata": {
    "scrolled": false
   },
   "outputs": [],
   "source": [
    "# test1"
   ]
  },
  {
   "cell_type": "code",
   "execution_count": 44,
   "id": "c116ecc0",
   "metadata": {},
   "outputs": [],
   "source": [
    "test1 = test1.reshape(-1, 28, 28, 1)"
   ]
  },
  {
   "cell_type": "code",
   "execution_count": 45,
   "id": "cc251078",
   "metadata": {},
   "outputs": [],
   "source": [
    "test1 = np.asarray(test1).astype('float32')"
   ]
  },
  {
   "cell_type": "code",
   "execution_count": 46,
   "id": "014482c2",
   "metadata": {},
   "outputs": [
    {
     "data": {
      "text/plain": [
       "(1, 28, 28, 1)"
      ]
     },
     "execution_count": 46,
     "metadata": {},
     "output_type": "execute_result"
    }
   ],
   "source": [
    "test1.shape"
   ]
  },
  {
   "cell_type": "code",
   "execution_count": 47,
   "id": "7f82ed0b",
   "metadata": {},
   "outputs": [
    {
     "name": "stdout",
     "output_type": "stream",
     "text": [
      "1/1 [==============================] - 0s 47ms/step\n",
      "[[0.24928808 0.163246   0.30038273 0.02391506 0.15503812 0.00598759\n",
      "  0.10214242]]\n"
     ]
    }
   ],
   "source": [
    "predictions = loaded_model.predict(test1)\n",
    "print(predictions)"
   ]
  },
  {
   "cell_type": "code",
   "execution_count": 48,
   "id": "57d194ba",
   "metadata": {},
   "outputs": [
    {
     "name": "stdout",
     "output_type": "stream",
     "text": [
      "2\n"
     ]
    }
   ],
   "source": [
    "classes = np.argmax(predictions, axis = 1)\n",
    "print(classes[0])"
   ]
  },
  {
   "cell_type": "code",
   "execution_count": 49,
   "id": "85d3e8f0",
   "metadata": {},
   "outputs": [
    {
     "data": {
      "text/plain": [
       "'bkl'"
      ]
     },
     "execution_count": 49,
     "metadata": {},
     "output_type": "execute_result"
    }
   ],
   "source": [
    "label_mapping[classes[0]]"
   ]
  },
  {
   "cell_type": "code",
   "execution_count": null,
   "id": "0b9f96ca",
   "metadata": {},
   "outputs": [],
   "source": []
  }
 ],
 "metadata": {
  "kernelspec": {
   "display_name": "Python 3 (ipykernel)",
   "language": "python",
   "name": "python3"
  },
  "language_info": {
   "codemirror_mode": {
    "name": "ipython",
    "version": 3
   },
   "file_extension": ".py",
   "mimetype": "text/x-python",
   "name": "python",
   "nbconvert_exporter": "python",
   "pygments_lexer": "ipython3",
   "version": "3.8.12"
  }
 },
 "nbformat": 4,
 "nbformat_minor": 5
}
